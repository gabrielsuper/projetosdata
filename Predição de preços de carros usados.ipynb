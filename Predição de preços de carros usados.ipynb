{
  "nbformat": 4,
  "nbformat_minor": 0,
  "metadata": {
    "colab": {
      "name": "Projeto 1 aplicacao de metodo de aprendizagem.ipynb",
      "provenance": [],
      "collapsed_sections": [],
      "include_colab_link": true
    },
    "kernelspec": {
      "name": "python3",
      "display_name": "Python 3"
    },
    "language_info": {
      "name": "python"
    }
  },
  "cells": [
    {
      "cell_type": "markdown",
      "metadata": {
        "id": "view-in-github",
        "colab_type": "text"
      },
      "source": [
        "<a href=\"https://colab.research.google.com/github/gabrielsuper/projetosdata/blob/main/Predi%C3%A7%C3%A3o%20de%20pre%C3%A7os%20de%20carros%20usados.ipynb\" target=\"_parent\"><img src=\"https://colab.research.google.com/assets/colab-badge.svg\" alt=\"Open In Colab\"/></a>"
      ]
    },
    {
      "cell_type": "markdown",
      "source": [
        "Projeto I - Aplicação de Métodos de Aprendizagem de Máquina\n",
        "\n",
        "### **Identificação**\n",
        "Gabriel da Cruz Oliveira (2992461)\n",
        "\n",
        "Heliton Ribeiro Ferreira (2735733)\n",
        "\n",
        "Roberto Batista (3026211)\n",
        "\n",
        "William Francisco Rocha Ribeiro (2790515)"
      ],
      "metadata": {
        "id": "2iZv_AB_13JJ"
      }
    },
    {
      "cell_type": "markdown",
      "source": [
        "#Avaliação 1 - Introdução e Fundamentação Teórica (Primeira parte): Descrição do Problema\n",
        "\n",
        "##Previsão de preço de carro com Machine Learning\n",
        "\n",
        "Avaliar o valor atual de um carro depende de vários fatores, alguns deles como a marca e o modelo do carro, as suas características de fábrica, a potência, a quilometragem que já foi usada, segurança, entre alguns outros fatores.\n",
        "\n",
        "De acordo com a [Web Motors](https://www.webmotors.com.br/wm1/dinheiro-e-economia/quanto-vale-meu-carro-5-passos-para-descobrir), ela lista 5 passos para descobrir como avaliar melhor o seu automóvel, entre eles um que destaca a atenção é refrente ao valor da tabela FIPE. \n",
        "\n",
        "A Tabela FIPE foi criada pela Fundação Instituto de Pesquisas Econômicas, segundo o site [Quatro Rodas](https://quatrorodas.abril.com.br/tabela-fipe/)\n",
        "\"O índice é baseado na coleta de preços de carros, motos e caminhões usados, seminovos e novos no mercado nacional. Em posse dos valores, pesquisadores descartam os preços muito altos, baixos ou com alguma discrepância estatística. Os números restantes são usados para criar uma média, e é esse o valor que vai constar para aquele determinado veículo na tabela.\"\n",
        "\n",
        "Nesse caso usaremos o valor de preço de carros já vendidos para predizer a venda de novos carros que tenham características parecidas.\n",
        "\n",
        "\n",
        "> **Objetivo**\n",
        "\n",
        "Esse projeto tem como objetivo aplicar algoritmos de machine learning na predição de preços de carros usados.\n",
        "\n",
        "> **Especificação Técnica**\n",
        "\n",
        "Dataset: Para desenvolvimento desse projeto, será utilizado o dataset encontrado no Kaggle\n",
        "chamado Vehicle dataset que contém dados de carros usados  disponível em:<  https://www.kaggle.com/nehalbirla/vehicle-dataset-from-cardekho?select=car+data.csv >\n",
        "\n",
        "Formato: A base de dados está em formato CSV com colunas contendo dados em object e outras em int, divida em 9 colunas em ordem conforme descrito abaixo:\n",
        "\n",
        "1. Car_name -> Nome do carro\n",
        "2. Year -> Ano em que o carro foi comprado\n",
        "3. selling_price -> Preço que o proprietário do carro deseja vender\n",
        "4. Present_Price -> Preço atual vendido pela loja\n",
        "5. Kms_driven -> Distância pecorrida pelo carro em KM\n",
        "6. Fuel_Type -> Tipo de combustível do carro\n",
        "7. Seller_Type -> Define se o vendedor é loja ou pessoa física\n",
        "8. Transmission -> Define se o carro é manual ou automático\n",
        "9. Owner -> Número de proprietários que o carro já teve\n",
        "\n",
        "Métodos de Pŕe-processamento: O dataset escolhido parece ser um dataset pequeno. Sendo assim, na etapa de pré-processsamento vamos verificar a possibilidade dos seguintes passos:\n",
        "\n",
        "*  Verificação, remoção ou inclusão de dados faltantes\n",
        "*  Remoção de colunas irrelevantes\n",
        "*  Codificar os dados categóricos\n",
        "*  Renomear colunas\n",
        "\n",
        "Tarefa de Aprendizado: Será aplicado a tarefa de Regessão e Arvore de decisão.\n",
        "\n",
        "Algoritmos Avaliados: Para prever os preços dos carros usados iremos utilizar o modelo LinearRegression, LassoRegression e  RandomForest.\n",
        "\n",
        "Métricas de Avaliação: R-squared."
      ],
      "metadata": {
        "id": "Wqc3yNoK2UCd"
      }
    },
    {
      "cell_type": "markdown",
      "source": [
        "#Avaliação 2 - Metodologia, Resultados e Discussão (Segunda parte): Preparação dos Dados\n",
        "\n",
        "###Importando os dados\n"
      ],
      "metadata": {
        "id": "RrVopRDB2ZQg"
      }
    },
    {
      "cell_type": "code",
      "source": [
        "#Importando a biblioteca pandas para importação e tratativa dos dados\n",
        "import pandas as pd"
      ],
      "metadata": {
        "id": "oLzapE7RW00a"
      },
      "execution_count": null,
      "outputs": []
    },
    {
      "cell_type": "code",
      "source": [
        "#Importando o dataset\n",
        "url = 'https://raw.githubusercontent.com/gabrielsuper/projetosdata/main/pasta/car%20data.csv'\n",
        "df = pd.read_csv(url)\n",
        "\n",
        "#Verificando tamanho do dataset em linhas e colunas\n",
        "\n",
        "print('O dataset contém {} linhas e {} colunas.'.format(df.shape[0],df.shape[1]))"
      ],
      "metadata": {
        "colab": {
          "base_uri": "https://localhost:8080/"
        },
        "id": "q_0xbcgTW8Y6",
        "outputId": "c4ba047e-dd8c-4a49-88b4-e7652f9daf8c"
      },
      "execution_count": null,
      "outputs": [
        {
          "output_type": "stream",
          "name": "stdout",
          "text": [
            "O dataset contém 301 linhas e 9 colunas.\n"
          ]
        }
      ]
    },
    {
      "cell_type": "code",
      "source": [
        "#Visualizando as 5 primeiras linhas do dataset\n",
        "\n",
        "df.head()"
      ],
      "metadata": {
        "colab": {
          "base_uri": "https://localhost:8080/",
          "height": 206
        },
        "id": "TIdHdPO_ZItz",
        "outputId": "ca670f96-c94c-4ed9-912c-d8d07649e7da"
      },
      "execution_count": null,
      "outputs": [
        {
          "output_type": "execute_result",
          "data": {
            "text/plain": [
              "  Car_Name  Year  Selling_Price  Present_Price  Kms_Driven Fuel_Type  \\\n",
              "0     ritz  2014           3.35           5.59       27000    Petrol   \n",
              "1      sx4  2013           4.75           9.54       43000    Diesel   \n",
              "2     ciaz  2017           7.25           9.85        6900    Petrol   \n",
              "3  wagon r  2011           2.85           4.15        5200    Petrol   \n",
              "4    swift  2014           4.60           6.87       42450    Diesel   \n",
              "\n",
              "  Seller_Type Transmission  Owner  \n",
              "0      Dealer       Manual      0  \n",
              "1      Dealer       Manual      0  \n",
              "2      Dealer       Manual      0  \n",
              "3      Dealer       Manual      0  \n",
              "4      Dealer       Manual      0  "
            ],
            "text/html": [
              "\n",
              "  <div id=\"df-ae1f0207-8b55-4045-90a5-e1b9847285c8\">\n",
              "    <div class=\"colab-df-container\">\n",
              "      <div>\n",
              "<style scoped>\n",
              "    .dataframe tbody tr th:only-of-type {\n",
              "        vertical-align: middle;\n",
              "    }\n",
              "\n",
              "    .dataframe tbody tr th {\n",
              "        vertical-align: top;\n",
              "    }\n",
              "\n",
              "    .dataframe thead th {\n",
              "        text-align: right;\n",
              "    }\n",
              "</style>\n",
              "<table border=\"1\" class=\"dataframe\">\n",
              "  <thead>\n",
              "    <tr style=\"text-align: right;\">\n",
              "      <th></th>\n",
              "      <th>Car_Name</th>\n",
              "      <th>Year</th>\n",
              "      <th>Selling_Price</th>\n",
              "      <th>Present_Price</th>\n",
              "      <th>Kms_Driven</th>\n",
              "      <th>Fuel_Type</th>\n",
              "      <th>Seller_Type</th>\n",
              "      <th>Transmission</th>\n",
              "      <th>Owner</th>\n",
              "    </tr>\n",
              "  </thead>\n",
              "  <tbody>\n",
              "    <tr>\n",
              "      <th>0</th>\n",
              "      <td>ritz</td>\n",
              "      <td>2014</td>\n",
              "      <td>3.35</td>\n",
              "      <td>5.59</td>\n",
              "      <td>27000</td>\n",
              "      <td>Petrol</td>\n",
              "      <td>Dealer</td>\n",
              "      <td>Manual</td>\n",
              "      <td>0</td>\n",
              "    </tr>\n",
              "    <tr>\n",
              "      <th>1</th>\n",
              "      <td>sx4</td>\n",
              "      <td>2013</td>\n",
              "      <td>4.75</td>\n",
              "      <td>9.54</td>\n",
              "      <td>43000</td>\n",
              "      <td>Diesel</td>\n",
              "      <td>Dealer</td>\n",
              "      <td>Manual</td>\n",
              "      <td>0</td>\n",
              "    </tr>\n",
              "    <tr>\n",
              "      <th>2</th>\n",
              "      <td>ciaz</td>\n",
              "      <td>2017</td>\n",
              "      <td>7.25</td>\n",
              "      <td>9.85</td>\n",
              "      <td>6900</td>\n",
              "      <td>Petrol</td>\n",
              "      <td>Dealer</td>\n",
              "      <td>Manual</td>\n",
              "      <td>0</td>\n",
              "    </tr>\n",
              "    <tr>\n",
              "      <th>3</th>\n",
              "      <td>wagon r</td>\n",
              "      <td>2011</td>\n",
              "      <td>2.85</td>\n",
              "      <td>4.15</td>\n",
              "      <td>5200</td>\n",
              "      <td>Petrol</td>\n",
              "      <td>Dealer</td>\n",
              "      <td>Manual</td>\n",
              "      <td>0</td>\n",
              "    </tr>\n",
              "    <tr>\n",
              "      <th>4</th>\n",
              "      <td>swift</td>\n",
              "      <td>2014</td>\n",
              "      <td>4.60</td>\n",
              "      <td>6.87</td>\n",
              "      <td>42450</td>\n",
              "      <td>Diesel</td>\n",
              "      <td>Dealer</td>\n",
              "      <td>Manual</td>\n",
              "      <td>0</td>\n",
              "    </tr>\n",
              "  </tbody>\n",
              "</table>\n",
              "</div>\n",
              "      <button class=\"colab-df-convert\" onclick=\"convertToInteractive('df-ae1f0207-8b55-4045-90a5-e1b9847285c8')\"\n",
              "              title=\"Convert this dataframe to an interactive table.\"\n",
              "              style=\"display:none;\">\n",
              "        \n",
              "  <svg xmlns=\"http://www.w3.org/2000/svg\" height=\"24px\"viewBox=\"0 0 24 24\"\n",
              "       width=\"24px\">\n",
              "    <path d=\"M0 0h24v24H0V0z\" fill=\"none\"/>\n",
              "    <path d=\"M18.56 5.44l.94 2.06.94-2.06 2.06-.94-2.06-.94-.94-2.06-.94 2.06-2.06.94zm-11 1L8.5 8.5l.94-2.06 2.06-.94-2.06-.94L8.5 2.5l-.94 2.06-2.06.94zm10 10l.94 2.06.94-2.06 2.06-.94-2.06-.94-.94-2.06-.94 2.06-2.06.94z\"/><path d=\"M17.41 7.96l-1.37-1.37c-.4-.4-.92-.59-1.43-.59-.52 0-1.04.2-1.43.59L10.3 9.45l-7.72 7.72c-.78.78-.78 2.05 0 2.83L4 21.41c.39.39.9.59 1.41.59.51 0 1.02-.2 1.41-.59l7.78-7.78 2.81-2.81c.8-.78.8-2.07 0-2.86zM5.41 20L4 18.59l7.72-7.72 1.47 1.35L5.41 20z\"/>\n",
              "  </svg>\n",
              "      </button>\n",
              "      \n",
              "  <style>\n",
              "    .colab-df-container {\n",
              "      display:flex;\n",
              "      flex-wrap:wrap;\n",
              "      gap: 12px;\n",
              "    }\n",
              "\n",
              "    .colab-df-convert {\n",
              "      background-color: #E8F0FE;\n",
              "      border: none;\n",
              "      border-radius: 50%;\n",
              "      cursor: pointer;\n",
              "      display: none;\n",
              "      fill: #1967D2;\n",
              "      height: 32px;\n",
              "      padding: 0 0 0 0;\n",
              "      width: 32px;\n",
              "    }\n",
              "\n",
              "    .colab-df-convert:hover {\n",
              "      background-color: #E2EBFA;\n",
              "      box-shadow: 0px 1px 2px rgba(60, 64, 67, 0.3), 0px 1px 3px 1px rgba(60, 64, 67, 0.15);\n",
              "      fill: #174EA6;\n",
              "    }\n",
              "\n",
              "    [theme=dark] .colab-df-convert {\n",
              "      background-color: #3B4455;\n",
              "      fill: #D2E3FC;\n",
              "    }\n",
              "\n",
              "    [theme=dark] .colab-df-convert:hover {\n",
              "      background-color: #434B5C;\n",
              "      box-shadow: 0px 1px 3px 1px rgba(0, 0, 0, 0.15);\n",
              "      filter: drop-shadow(0px 1px 2px rgba(0, 0, 0, 0.3));\n",
              "      fill: #FFFFFF;\n",
              "    }\n",
              "  </style>\n",
              "\n",
              "      <script>\n",
              "        const buttonEl =\n",
              "          document.querySelector('#df-ae1f0207-8b55-4045-90a5-e1b9847285c8 button.colab-df-convert');\n",
              "        buttonEl.style.display =\n",
              "          google.colab.kernel.accessAllowed ? 'block' : 'none';\n",
              "\n",
              "        async function convertToInteractive(key) {\n",
              "          const element = document.querySelector('#df-ae1f0207-8b55-4045-90a5-e1b9847285c8');\n",
              "          const dataTable =\n",
              "            await google.colab.kernel.invokeFunction('convertToInteractive',\n",
              "                                                     [key], {});\n",
              "          if (!dataTable) return;\n",
              "\n",
              "          const docLinkHtml = 'Like what you see? Visit the ' +\n",
              "            '<a target=\"_blank\" href=https://colab.research.google.com/notebooks/data_table.ipynb>data table notebook</a>'\n",
              "            + ' to learn more about interactive tables.';\n",
              "          element.innerHTML = '';\n",
              "          dataTable['output_type'] = 'display_data';\n",
              "          await google.colab.output.renderOutput(dataTable, element);\n",
              "          const docLink = document.createElement('div');\n",
              "          docLink.innerHTML = docLinkHtml;\n",
              "          element.appendChild(docLink);\n",
              "        }\n",
              "      </script>\n",
              "    </div>\n",
              "  </div>\n",
              "  "
            ]
          },
          "metadata": {},
          "execution_count": 147
        }
      ]
    },
    {
      "cell_type": "code",
      "source": [
        "#Visualizando as 5 ultimas linhas do dataset\n",
        "\n",
        "df.tail()"
      ],
      "metadata": {
        "colab": {
          "base_uri": "https://localhost:8080/",
          "height": 206
        },
        "id": "f0rtzujSaGKz",
        "outputId": "5a9e329b-4892-45a5-bb67-de554bc4424c"
      },
      "execution_count": null,
      "outputs": [
        {
          "output_type": "execute_result",
          "data": {
            "text/plain": [
              "    Car_Name  Year  Selling_Price  Present_Price  Kms_Driven Fuel_Type  \\\n",
              "296     city  2016           9.50           11.6       33988    Diesel   \n",
              "297     brio  2015           4.00            5.9       60000    Petrol   \n",
              "298     city  2009           3.35           11.0       87934    Petrol   \n",
              "299     city  2017          11.50           12.5        9000    Diesel   \n",
              "300     brio  2016           5.30            5.9        5464    Petrol   \n",
              "\n",
              "    Seller_Type Transmission  Owner  \n",
              "296      Dealer       Manual      0  \n",
              "297      Dealer       Manual      0  \n",
              "298      Dealer       Manual      0  \n",
              "299      Dealer       Manual      0  \n",
              "300      Dealer       Manual      0  "
            ],
            "text/html": [
              "\n",
              "  <div id=\"df-d8cd23ea-6197-410b-94c1-e3bc34ddccb6\">\n",
              "    <div class=\"colab-df-container\">\n",
              "      <div>\n",
              "<style scoped>\n",
              "    .dataframe tbody tr th:only-of-type {\n",
              "        vertical-align: middle;\n",
              "    }\n",
              "\n",
              "    .dataframe tbody tr th {\n",
              "        vertical-align: top;\n",
              "    }\n",
              "\n",
              "    .dataframe thead th {\n",
              "        text-align: right;\n",
              "    }\n",
              "</style>\n",
              "<table border=\"1\" class=\"dataframe\">\n",
              "  <thead>\n",
              "    <tr style=\"text-align: right;\">\n",
              "      <th></th>\n",
              "      <th>Car_Name</th>\n",
              "      <th>Year</th>\n",
              "      <th>Selling_Price</th>\n",
              "      <th>Present_Price</th>\n",
              "      <th>Kms_Driven</th>\n",
              "      <th>Fuel_Type</th>\n",
              "      <th>Seller_Type</th>\n",
              "      <th>Transmission</th>\n",
              "      <th>Owner</th>\n",
              "    </tr>\n",
              "  </thead>\n",
              "  <tbody>\n",
              "    <tr>\n",
              "      <th>296</th>\n",
              "      <td>city</td>\n",
              "      <td>2016</td>\n",
              "      <td>9.50</td>\n",
              "      <td>11.6</td>\n",
              "      <td>33988</td>\n",
              "      <td>Diesel</td>\n",
              "      <td>Dealer</td>\n",
              "      <td>Manual</td>\n",
              "      <td>0</td>\n",
              "    </tr>\n",
              "    <tr>\n",
              "      <th>297</th>\n",
              "      <td>brio</td>\n",
              "      <td>2015</td>\n",
              "      <td>4.00</td>\n",
              "      <td>5.9</td>\n",
              "      <td>60000</td>\n",
              "      <td>Petrol</td>\n",
              "      <td>Dealer</td>\n",
              "      <td>Manual</td>\n",
              "      <td>0</td>\n",
              "    </tr>\n",
              "    <tr>\n",
              "      <th>298</th>\n",
              "      <td>city</td>\n",
              "      <td>2009</td>\n",
              "      <td>3.35</td>\n",
              "      <td>11.0</td>\n",
              "      <td>87934</td>\n",
              "      <td>Petrol</td>\n",
              "      <td>Dealer</td>\n",
              "      <td>Manual</td>\n",
              "      <td>0</td>\n",
              "    </tr>\n",
              "    <tr>\n",
              "      <th>299</th>\n",
              "      <td>city</td>\n",
              "      <td>2017</td>\n",
              "      <td>11.50</td>\n",
              "      <td>12.5</td>\n",
              "      <td>9000</td>\n",
              "      <td>Diesel</td>\n",
              "      <td>Dealer</td>\n",
              "      <td>Manual</td>\n",
              "      <td>0</td>\n",
              "    </tr>\n",
              "    <tr>\n",
              "      <th>300</th>\n",
              "      <td>brio</td>\n",
              "      <td>2016</td>\n",
              "      <td>5.30</td>\n",
              "      <td>5.9</td>\n",
              "      <td>5464</td>\n",
              "      <td>Petrol</td>\n",
              "      <td>Dealer</td>\n",
              "      <td>Manual</td>\n",
              "      <td>0</td>\n",
              "    </tr>\n",
              "  </tbody>\n",
              "</table>\n",
              "</div>\n",
              "      <button class=\"colab-df-convert\" onclick=\"convertToInteractive('df-d8cd23ea-6197-410b-94c1-e3bc34ddccb6')\"\n",
              "              title=\"Convert this dataframe to an interactive table.\"\n",
              "              style=\"display:none;\">\n",
              "        \n",
              "  <svg xmlns=\"http://www.w3.org/2000/svg\" height=\"24px\"viewBox=\"0 0 24 24\"\n",
              "       width=\"24px\">\n",
              "    <path d=\"M0 0h24v24H0V0z\" fill=\"none\"/>\n",
              "    <path d=\"M18.56 5.44l.94 2.06.94-2.06 2.06-.94-2.06-.94-.94-2.06-.94 2.06-2.06.94zm-11 1L8.5 8.5l.94-2.06 2.06-.94-2.06-.94L8.5 2.5l-.94 2.06-2.06.94zm10 10l.94 2.06.94-2.06 2.06-.94-2.06-.94-.94-2.06-.94 2.06-2.06.94z\"/><path d=\"M17.41 7.96l-1.37-1.37c-.4-.4-.92-.59-1.43-.59-.52 0-1.04.2-1.43.59L10.3 9.45l-7.72 7.72c-.78.78-.78 2.05 0 2.83L4 21.41c.39.39.9.59 1.41.59.51 0 1.02-.2 1.41-.59l7.78-7.78 2.81-2.81c.8-.78.8-2.07 0-2.86zM5.41 20L4 18.59l7.72-7.72 1.47 1.35L5.41 20z\"/>\n",
              "  </svg>\n",
              "      </button>\n",
              "      \n",
              "  <style>\n",
              "    .colab-df-container {\n",
              "      display:flex;\n",
              "      flex-wrap:wrap;\n",
              "      gap: 12px;\n",
              "    }\n",
              "\n",
              "    .colab-df-convert {\n",
              "      background-color: #E8F0FE;\n",
              "      border: none;\n",
              "      border-radius: 50%;\n",
              "      cursor: pointer;\n",
              "      display: none;\n",
              "      fill: #1967D2;\n",
              "      height: 32px;\n",
              "      padding: 0 0 0 0;\n",
              "      width: 32px;\n",
              "    }\n",
              "\n",
              "    .colab-df-convert:hover {\n",
              "      background-color: #E2EBFA;\n",
              "      box-shadow: 0px 1px 2px rgba(60, 64, 67, 0.3), 0px 1px 3px 1px rgba(60, 64, 67, 0.15);\n",
              "      fill: #174EA6;\n",
              "    }\n",
              "\n",
              "    [theme=dark] .colab-df-convert {\n",
              "      background-color: #3B4455;\n",
              "      fill: #D2E3FC;\n",
              "    }\n",
              "\n",
              "    [theme=dark] .colab-df-convert:hover {\n",
              "      background-color: #434B5C;\n",
              "      box-shadow: 0px 1px 3px 1px rgba(0, 0, 0, 0.15);\n",
              "      filter: drop-shadow(0px 1px 2px rgba(0, 0, 0, 0.3));\n",
              "      fill: #FFFFFF;\n",
              "    }\n",
              "  </style>\n",
              "\n",
              "      <script>\n",
              "        const buttonEl =\n",
              "          document.querySelector('#df-d8cd23ea-6197-410b-94c1-e3bc34ddccb6 button.colab-df-convert');\n",
              "        buttonEl.style.display =\n",
              "          google.colab.kernel.accessAllowed ? 'block' : 'none';\n",
              "\n",
              "        async function convertToInteractive(key) {\n",
              "          const element = document.querySelector('#df-d8cd23ea-6197-410b-94c1-e3bc34ddccb6');\n",
              "          const dataTable =\n",
              "            await google.colab.kernel.invokeFunction('convertToInteractive',\n",
              "                                                     [key], {});\n",
              "          if (!dataTable) return;\n",
              "\n",
              "          const docLinkHtml = 'Like what you see? Visit the ' +\n",
              "            '<a target=\"_blank\" href=https://colab.research.google.com/notebooks/data_table.ipynb>data table notebook</a>'\n",
              "            + ' to learn more about interactive tables.';\n",
              "          element.innerHTML = '';\n",
              "          dataTable['output_type'] = 'display_data';\n",
              "          await google.colab.output.renderOutput(dataTable, element);\n",
              "          const docLink = document.createElement('div');\n",
              "          docLink.innerHTML = docLinkHtml;\n",
              "          element.appendChild(docLink);\n",
              "        }\n",
              "      </script>\n",
              "    </div>\n",
              "  </div>\n",
              "  "
            ]
          },
          "metadata": {},
          "execution_count": 148
        }
      ]
    },
    {
      "cell_type": "markdown",
      "source": [
        "As colunas estão com os nomes em inglês, para facilitar o uso do dataset será feito a tradução para português.\n"
      ],
      "metadata": {
        "id": "xb5H4FAiZkeD"
      }
    },
    {
      "cell_type": "code",
      "source": [
        "#Renomeando as colunas\n",
        "\n",
        "df.columns = ['Carro','Ano','Preco_Venda','Preco_Atual','Distancia_KM','Tipo_Combustivel','Vendedor','Transmissao','Qtd_Proprietario']\n",
        "df.head()"
      ],
      "metadata": {
        "colab": {
          "base_uri": "https://localhost:8080/",
          "height": 206
        },
        "id": "D14IWq2qaCOL",
        "outputId": "6d994696-cfc3-4a89-fd62-306bcc0a606a"
      },
      "execution_count": null,
      "outputs": [
        {
          "output_type": "execute_result",
          "data": {
            "text/plain": [
              "     Carro   Ano  Preco_Venda  Preco_Atual  Distancia_KM Tipo_Combustivel  \\\n",
              "0     ritz  2014         3.35         5.59         27000           Petrol   \n",
              "1      sx4  2013         4.75         9.54         43000           Diesel   \n",
              "2     ciaz  2017         7.25         9.85          6900           Petrol   \n",
              "3  wagon r  2011         2.85         4.15          5200           Petrol   \n",
              "4    swift  2014         4.60         6.87         42450           Diesel   \n",
              "\n",
              "  Vendedor Transmissao  Qtd_Proprietario  \n",
              "0   Dealer      Manual                 0  \n",
              "1   Dealer      Manual                 0  \n",
              "2   Dealer      Manual                 0  \n",
              "3   Dealer      Manual                 0  \n",
              "4   Dealer      Manual                 0  "
            ],
            "text/html": [
              "\n",
              "  <div id=\"df-989b8ada-2626-4778-8796-4c5c4c26c5db\">\n",
              "    <div class=\"colab-df-container\">\n",
              "      <div>\n",
              "<style scoped>\n",
              "    .dataframe tbody tr th:only-of-type {\n",
              "        vertical-align: middle;\n",
              "    }\n",
              "\n",
              "    .dataframe tbody tr th {\n",
              "        vertical-align: top;\n",
              "    }\n",
              "\n",
              "    .dataframe thead th {\n",
              "        text-align: right;\n",
              "    }\n",
              "</style>\n",
              "<table border=\"1\" class=\"dataframe\">\n",
              "  <thead>\n",
              "    <tr style=\"text-align: right;\">\n",
              "      <th></th>\n",
              "      <th>Carro</th>\n",
              "      <th>Ano</th>\n",
              "      <th>Preco_Venda</th>\n",
              "      <th>Preco_Atual</th>\n",
              "      <th>Distancia_KM</th>\n",
              "      <th>Tipo_Combustivel</th>\n",
              "      <th>Vendedor</th>\n",
              "      <th>Transmissao</th>\n",
              "      <th>Qtd_Proprietario</th>\n",
              "    </tr>\n",
              "  </thead>\n",
              "  <tbody>\n",
              "    <tr>\n",
              "      <th>0</th>\n",
              "      <td>ritz</td>\n",
              "      <td>2014</td>\n",
              "      <td>3.35</td>\n",
              "      <td>5.59</td>\n",
              "      <td>27000</td>\n",
              "      <td>Petrol</td>\n",
              "      <td>Dealer</td>\n",
              "      <td>Manual</td>\n",
              "      <td>0</td>\n",
              "    </tr>\n",
              "    <tr>\n",
              "      <th>1</th>\n",
              "      <td>sx4</td>\n",
              "      <td>2013</td>\n",
              "      <td>4.75</td>\n",
              "      <td>9.54</td>\n",
              "      <td>43000</td>\n",
              "      <td>Diesel</td>\n",
              "      <td>Dealer</td>\n",
              "      <td>Manual</td>\n",
              "      <td>0</td>\n",
              "    </tr>\n",
              "    <tr>\n",
              "      <th>2</th>\n",
              "      <td>ciaz</td>\n",
              "      <td>2017</td>\n",
              "      <td>7.25</td>\n",
              "      <td>9.85</td>\n",
              "      <td>6900</td>\n",
              "      <td>Petrol</td>\n",
              "      <td>Dealer</td>\n",
              "      <td>Manual</td>\n",
              "      <td>0</td>\n",
              "    </tr>\n",
              "    <tr>\n",
              "      <th>3</th>\n",
              "      <td>wagon r</td>\n",
              "      <td>2011</td>\n",
              "      <td>2.85</td>\n",
              "      <td>4.15</td>\n",
              "      <td>5200</td>\n",
              "      <td>Petrol</td>\n",
              "      <td>Dealer</td>\n",
              "      <td>Manual</td>\n",
              "      <td>0</td>\n",
              "    </tr>\n",
              "    <tr>\n",
              "      <th>4</th>\n",
              "      <td>swift</td>\n",
              "      <td>2014</td>\n",
              "      <td>4.60</td>\n",
              "      <td>6.87</td>\n",
              "      <td>42450</td>\n",
              "      <td>Diesel</td>\n",
              "      <td>Dealer</td>\n",
              "      <td>Manual</td>\n",
              "      <td>0</td>\n",
              "    </tr>\n",
              "  </tbody>\n",
              "</table>\n",
              "</div>\n",
              "      <button class=\"colab-df-convert\" onclick=\"convertToInteractive('df-989b8ada-2626-4778-8796-4c5c4c26c5db')\"\n",
              "              title=\"Convert this dataframe to an interactive table.\"\n",
              "              style=\"display:none;\">\n",
              "        \n",
              "  <svg xmlns=\"http://www.w3.org/2000/svg\" height=\"24px\"viewBox=\"0 0 24 24\"\n",
              "       width=\"24px\">\n",
              "    <path d=\"M0 0h24v24H0V0z\" fill=\"none\"/>\n",
              "    <path d=\"M18.56 5.44l.94 2.06.94-2.06 2.06-.94-2.06-.94-.94-2.06-.94 2.06-2.06.94zm-11 1L8.5 8.5l.94-2.06 2.06-.94-2.06-.94L8.5 2.5l-.94 2.06-2.06.94zm10 10l.94 2.06.94-2.06 2.06-.94-2.06-.94-.94-2.06-.94 2.06-2.06.94z\"/><path d=\"M17.41 7.96l-1.37-1.37c-.4-.4-.92-.59-1.43-.59-.52 0-1.04.2-1.43.59L10.3 9.45l-7.72 7.72c-.78.78-.78 2.05 0 2.83L4 21.41c.39.39.9.59 1.41.59.51 0 1.02-.2 1.41-.59l7.78-7.78 2.81-2.81c.8-.78.8-2.07 0-2.86zM5.41 20L4 18.59l7.72-7.72 1.47 1.35L5.41 20z\"/>\n",
              "  </svg>\n",
              "      </button>\n",
              "      \n",
              "  <style>\n",
              "    .colab-df-container {\n",
              "      display:flex;\n",
              "      flex-wrap:wrap;\n",
              "      gap: 12px;\n",
              "    }\n",
              "\n",
              "    .colab-df-convert {\n",
              "      background-color: #E8F0FE;\n",
              "      border: none;\n",
              "      border-radius: 50%;\n",
              "      cursor: pointer;\n",
              "      display: none;\n",
              "      fill: #1967D2;\n",
              "      height: 32px;\n",
              "      padding: 0 0 0 0;\n",
              "      width: 32px;\n",
              "    }\n",
              "\n",
              "    .colab-df-convert:hover {\n",
              "      background-color: #E2EBFA;\n",
              "      box-shadow: 0px 1px 2px rgba(60, 64, 67, 0.3), 0px 1px 3px 1px rgba(60, 64, 67, 0.15);\n",
              "      fill: #174EA6;\n",
              "    }\n",
              "\n",
              "    [theme=dark] .colab-df-convert {\n",
              "      background-color: #3B4455;\n",
              "      fill: #D2E3FC;\n",
              "    }\n",
              "\n",
              "    [theme=dark] .colab-df-convert:hover {\n",
              "      background-color: #434B5C;\n",
              "      box-shadow: 0px 1px 3px 1px rgba(0, 0, 0, 0.15);\n",
              "      filter: drop-shadow(0px 1px 2px rgba(0, 0, 0, 0.3));\n",
              "      fill: #FFFFFF;\n",
              "    }\n",
              "  </style>\n",
              "\n",
              "      <script>\n",
              "        const buttonEl =\n",
              "          document.querySelector('#df-989b8ada-2626-4778-8796-4c5c4c26c5db button.colab-df-convert');\n",
              "        buttonEl.style.display =\n",
              "          google.colab.kernel.accessAllowed ? 'block' : 'none';\n",
              "\n",
              "        async function convertToInteractive(key) {\n",
              "          const element = document.querySelector('#df-989b8ada-2626-4778-8796-4c5c4c26c5db');\n",
              "          const dataTable =\n",
              "            await google.colab.kernel.invokeFunction('convertToInteractive',\n",
              "                                                     [key], {});\n",
              "          if (!dataTable) return;\n",
              "\n",
              "          const docLinkHtml = 'Like what you see? Visit the ' +\n",
              "            '<a target=\"_blank\" href=https://colab.research.google.com/notebooks/data_table.ipynb>data table notebook</a>'\n",
              "            + ' to learn more about interactive tables.';\n",
              "          element.innerHTML = '';\n",
              "          dataTable['output_type'] = 'display_data';\n",
              "          await google.colab.output.renderOutput(dataTable, element);\n",
              "          const docLink = document.createElement('div');\n",
              "          docLink.innerHTML = docLinkHtml;\n",
              "          element.appendChild(docLink);\n",
              "        }\n",
              "      </script>\n",
              "    </div>\n",
              "  </div>\n",
              "  "
            ]
          },
          "metadata": {},
          "execution_count": 149
        }
      ]
    },
    {
      "cell_type": "markdown",
      "source": [
        "##Identificando as váriaveis"
      ],
      "metadata": {
        "id": "txkK1zY-bqkq"
      }
    },
    {
      "cell_type": "code",
      "source": [
        "#Utilizar a função df.info() para ter informações sobre as variáveis\n",
        "df.info()"
      ],
      "metadata": {
        "colab": {
          "base_uri": "https://localhost:8080/"
        },
        "id": "UJl16qOfb2ZZ",
        "outputId": "4acf9843-bd94-4b5e-ba15-4de19d9a26c5"
      },
      "execution_count": null,
      "outputs": [
        {
          "output_type": "stream",
          "name": "stdout",
          "text": [
            "<class 'pandas.core.frame.DataFrame'>\n",
            "RangeIndex: 301 entries, 0 to 300\n",
            "Data columns (total 9 columns):\n",
            " #   Column            Non-Null Count  Dtype  \n",
            "---  ------            --------------  -----  \n",
            " 0   Carro             301 non-null    object \n",
            " 1   Ano               301 non-null    int64  \n",
            " 2   Preco_Venda       301 non-null    float64\n",
            " 3   Preco_Atual       301 non-null    float64\n",
            " 4   Distancia_KM      301 non-null    int64  \n",
            " 5   Tipo_Combustivel  301 non-null    object \n",
            " 6   Vendedor          301 non-null    object \n",
            " 7   Transmissao       301 non-null    object \n",
            " 8   Qtd_Proprietario  301 non-null    int64  \n",
            "dtypes: float64(2), int64(3), object(4)\n",
            "memory usage: 21.3+ KB\n"
          ]
        }
      ]
    },
    {
      "cell_type": "markdown",
      "source": [
        "Usando o comando df.info() tivemos como resposta as 9 variáveis(colunas) e 301 entradas. Essas variáveis são dividas em categóricas e númericas.\n",
        "\n",
        "Variáveis categóricas: Carro,tipo de combustível, vendedor, transmissão.\n",
        "Variáveis númericas: Ano, preço de venda, preço atual, distancia em km,quantidade de proprietários.\n",
        "\n",
        "O dataset não possui dados nulos em qualquer váriavel,não precisando realizarmos tratativas de inclusão ou remoção para dados faltantes.\n",
        "\n",
        "A variável ano está como númerica, entretanto não utilizaremos ela para operações matemáticas.\n",
        "\n"
      ],
      "metadata": {
        "id": "ff7Egp40cQ4s"
      }
    },
    {
      "cell_type": "code",
      "source": [
        "#Usando o comando isnull para confirmar se existe dados faltantes\n",
        "\n",
        "df.isnull().sum()"
      ],
      "metadata": {
        "colab": {
          "base_uri": "https://localhost:8080/"
        },
        "id": "TqQ3m6EXfAJO",
        "outputId": "bdf6b6df-7b65-4ac3-ded1-5d0cd8d35cb7"
      },
      "execution_count": null,
      "outputs": [
        {
          "output_type": "execute_result",
          "data": {
            "text/plain": [
              "Carro               0\n",
              "Ano                 0\n",
              "Preco_Venda         0\n",
              "Preco_Atual         0\n",
              "Distancia_KM        0\n",
              "Tipo_Combustivel    0\n",
              "Vendedor            0\n",
              "Transmissao         0\n",
              "Qtd_Proprietario    0\n",
              "dtype: int64"
            ]
          },
          "metadata": {},
          "execution_count": 151
        }
      ]
    },
    {
      "cell_type": "code",
      "source": [
        "#Verificando a distribuição dos dados categoricos\n",
        "\n",
        "print(df.Tipo_Combustivel.value_counts(),'\\n')\n",
        "print(df.Vendedor.value_counts(),'\\n')\n",
        "print(df.Transmissao.value_counts(),'\\n')"
      ],
      "metadata": {
        "colab": {
          "base_uri": "https://localhost:8080/"
        },
        "id": "aHt5Sru-9Wrn",
        "outputId": "943abb40-27a7-438b-cb85-ec216c4f4d28"
      },
      "execution_count": null,
      "outputs": [
        {
          "output_type": "stream",
          "name": "stdout",
          "text": [
            "Petrol    239\n",
            "Diesel     60\n",
            "CNG         2\n",
            "Name: Tipo_Combustivel, dtype: int64 \n",
            "\n",
            "Dealer        195\n",
            "Individual    106\n",
            "Name: Vendedor, dtype: int64 \n",
            "\n",
            "Manual       261\n",
            "Automatic     40\n",
            "Name: Transmissao, dtype: int64 \n",
            "\n"
          ]
        }
      ]
    },
    {
      "cell_type": "markdown",
      "source": [
        "##Análise Exploratória dos Dados e Pré-Processamento dos dados"
      ],
      "metadata": {
        "id": "8Biy_xssAA6f"
      }
    },
    {
      "cell_type": "markdown",
      "source": [
        "Iremos identificar algumas distribuição no dataset como um todo, para isso vamos utilizar a função *describe* que plota uma tabela com dados estatísticos do nosso dataset."
      ],
      "metadata": {
        "id": "10xXEt1xAi05"
      }
    },
    {
      "cell_type": "code",
      "source": [
        "#Obtendo informações das variáveis\n",
        "df.describe()"
      ],
      "metadata": {
        "colab": {
          "base_uri": "https://localhost:8080/",
          "height": 300
        },
        "id": "_WofeAG1AumT",
        "outputId": "8a993260-a02c-40ed-95aa-34ef5f68224d"
      },
      "execution_count": null,
      "outputs": [
        {
          "output_type": "execute_result",
          "data": {
            "text/plain": [
              "               Ano  Preco_Venda  Preco_Atual   Distancia_KM  Qtd_Proprietario\n",
              "count   301.000000   301.000000   301.000000     301.000000        301.000000\n",
              "mean   2013.627907     4.661296     7.628472   36947.205980          0.043189\n",
              "std       2.891554     5.082812     8.644115   38886.883882          0.247915\n",
              "min    2003.000000     0.100000     0.320000     500.000000          0.000000\n",
              "25%    2012.000000     0.900000     1.200000   15000.000000          0.000000\n",
              "50%    2014.000000     3.600000     6.400000   32000.000000          0.000000\n",
              "75%    2016.000000     6.000000     9.900000   48767.000000          0.000000\n",
              "max    2018.000000    35.000000    92.600000  500000.000000          3.000000"
            ],
            "text/html": [
              "\n",
              "  <div id=\"df-7f9810d7-6f85-423c-8acd-e6ea3291bfd3\">\n",
              "    <div class=\"colab-df-container\">\n",
              "      <div>\n",
              "<style scoped>\n",
              "    .dataframe tbody tr th:only-of-type {\n",
              "        vertical-align: middle;\n",
              "    }\n",
              "\n",
              "    .dataframe tbody tr th {\n",
              "        vertical-align: top;\n",
              "    }\n",
              "\n",
              "    .dataframe thead th {\n",
              "        text-align: right;\n",
              "    }\n",
              "</style>\n",
              "<table border=\"1\" class=\"dataframe\">\n",
              "  <thead>\n",
              "    <tr style=\"text-align: right;\">\n",
              "      <th></th>\n",
              "      <th>Ano</th>\n",
              "      <th>Preco_Venda</th>\n",
              "      <th>Preco_Atual</th>\n",
              "      <th>Distancia_KM</th>\n",
              "      <th>Qtd_Proprietario</th>\n",
              "    </tr>\n",
              "  </thead>\n",
              "  <tbody>\n",
              "    <tr>\n",
              "      <th>count</th>\n",
              "      <td>301.000000</td>\n",
              "      <td>301.000000</td>\n",
              "      <td>301.000000</td>\n",
              "      <td>301.000000</td>\n",
              "      <td>301.000000</td>\n",
              "    </tr>\n",
              "    <tr>\n",
              "      <th>mean</th>\n",
              "      <td>2013.627907</td>\n",
              "      <td>4.661296</td>\n",
              "      <td>7.628472</td>\n",
              "      <td>36947.205980</td>\n",
              "      <td>0.043189</td>\n",
              "    </tr>\n",
              "    <tr>\n",
              "      <th>std</th>\n",
              "      <td>2.891554</td>\n",
              "      <td>5.082812</td>\n",
              "      <td>8.644115</td>\n",
              "      <td>38886.883882</td>\n",
              "      <td>0.247915</td>\n",
              "    </tr>\n",
              "    <tr>\n",
              "      <th>min</th>\n",
              "      <td>2003.000000</td>\n",
              "      <td>0.100000</td>\n",
              "      <td>0.320000</td>\n",
              "      <td>500.000000</td>\n",
              "      <td>0.000000</td>\n",
              "    </tr>\n",
              "    <tr>\n",
              "      <th>25%</th>\n",
              "      <td>2012.000000</td>\n",
              "      <td>0.900000</td>\n",
              "      <td>1.200000</td>\n",
              "      <td>15000.000000</td>\n",
              "      <td>0.000000</td>\n",
              "    </tr>\n",
              "    <tr>\n",
              "      <th>50%</th>\n",
              "      <td>2014.000000</td>\n",
              "      <td>3.600000</td>\n",
              "      <td>6.400000</td>\n",
              "      <td>32000.000000</td>\n",
              "      <td>0.000000</td>\n",
              "    </tr>\n",
              "    <tr>\n",
              "      <th>75%</th>\n",
              "      <td>2016.000000</td>\n",
              "      <td>6.000000</td>\n",
              "      <td>9.900000</td>\n",
              "      <td>48767.000000</td>\n",
              "      <td>0.000000</td>\n",
              "    </tr>\n",
              "    <tr>\n",
              "      <th>max</th>\n",
              "      <td>2018.000000</td>\n",
              "      <td>35.000000</td>\n",
              "      <td>92.600000</td>\n",
              "      <td>500000.000000</td>\n",
              "      <td>3.000000</td>\n",
              "    </tr>\n",
              "  </tbody>\n",
              "</table>\n",
              "</div>\n",
              "      <button class=\"colab-df-convert\" onclick=\"convertToInteractive('df-7f9810d7-6f85-423c-8acd-e6ea3291bfd3')\"\n",
              "              title=\"Convert this dataframe to an interactive table.\"\n",
              "              style=\"display:none;\">\n",
              "        \n",
              "  <svg xmlns=\"http://www.w3.org/2000/svg\" height=\"24px\"viewBox=\"0 0 24 24\"\n",
              "       width=\"24px\">\n",
              "    <path d=\"M0 0h24v24H0V0z\" fill=\"none\"/>\n",
              "    <path d=\"M18.56 5.44l.94 2.06.94-2.06 2.06-.94-2.06-.94-.94-2.06-.94 2.06-2.06.94zm-11 1L8.5 8.5l.94-2.06 2.06-.94-2.06-.94L8.5 2.5l-.94 2.06-2.06.94zm10 10l.94 2.06.94-2.06 2.06-.94-2.06-.94-.94-2.06-.94 2.06-2.06.94z\"/><path d=\"M17.41 7.96l-1.37-1.37c-.4-.4-.92-.59-1.43-.59-.52 0-1.04.2-1.43.59L10.3 9.45l-7.72 7.72c-.78.78-.78 2.05 0 2.83L4 21.41c.39.39.9.59 1.41.59.51 0 1.02-.2 1.41-.59l7.78-7.78 2.81-2.81c.8-.78.8-2.07 0-2.86zM5.41 20L4 18.59l7.72-7.72 1.47 1.35L5.41 20z\"/>\n",
              "  </svg>\n",
              "      </button>\n",
              "      \n",
              "  <style>\n",
              "    .colab-df-container {\n",
              "      display:flex;\n",
              "      flex-wrap:wrap;\n",
              "      gap: 12px;\n",
              "    }\n",
              "\n",
              "    .colab-df-convert {\n",
              "      background-color: #E8F0FE;\n",
              "      border: none;\n",
              "      border-radius: 50%;\n",
              "      cursor: pointer;\n",
              "      display: none;\n",
              "      fill: #1967D2;\n",
              "      height: 32px;\n",
              "      padding: 0 0 0 0;\n",
              "      width: 32px;\n",
              "    }\n",
              "\n",
              "    .colab-df-convert:hover {\n",
              "      background-color: #E2EBFA;\n",
              "      box-shadow: 0px 1px 2px rgba(60, 64, 67, 0.3), 0px 1px 3px 1px rgba(60, 64, 67, 0.15);\n",
              "      fill: #174EA6;\n",
              "    }\n",
              "\n",
              "    [theme=dark] .colab-df-convert {\n",
              "      background-color: #3B4455;\n",
              "      fill: #D2E3FC;\n",
              "    }\n",
              "\n",
              "    [theme=dark] .colab-df-convert:hover {\n",
              "      background-color: #434B5C;\n",
              "      box-shadow: 0px 1px 3px 1px rgba(0, 0, 0, 0.15);\n",
              "      filter: drop-shadow(0px 1px 2px rgba(0, 0, 0, 0.3));\n",
              "      fill: #FFFFFF;\n",
              "    }\n",
              "  </style>\n",
              "\n",
              "      <script>\n",
              "        const buttonEl =\n",
              "          document.querySelector('#df-7f9810d7-6f85-423c-8acd-e6ea3291bfd3 button.colab-df-convert');\n",
              "        buttonEl.style.display =\n",
              "          google.colab.kernel.accessAllowed ? 'block' : 'none';\n",
              "\n",
              "        async function convertToInteractive(key) {\n",
              "          const element = document.querySelector('#df-7f9810d7-6f85-423c-8acd-e6ea3291bfd3');\n",
              "          const dataTable =\n",
              "            await google.colab.kernel.invokeFunction('convertToInteractive',\n",
              "                                                     [key], {});\n",
              "          if (!dataTable) return;\n",
              "\n",
              "          const docLinkHtml = 'Like what you see? Visit the ' +\n",
              "            '<a target=\"_blank\" href=https://colab.research.google.com/notebooks/data_table.ipynb>data table notebook</a>'\n",
              "            + ' to learn more about interactive tables.';\n",
              "          element.innerHTML = '';\n",
              "          dataTable['output_type'] = 'display_data';\n",
              "          await google.colab.output.renderOutput(dataTable, element);\n",
              "          const docLink = document.createElement('div');\n",
              "          docLink.innerHTML = docLinkHtml;\n",
              "          element.appendChild(docLink);\n",
              "        }\n",
              "      </script>\n",
              "    </div>\n",
              "  </div>\n",
              "  "
            ]
          },
          "metadata": {},
          "execution_count": 153
        }
      ]
    },
    {
      "cell_type": "markdown",
      "source": [
        "- Analisando as variáveis podemos concluir que nosso dataset tem dados de anos iniciando em 2003 até 2018.\n",
        "- O máximo que um carro usado teve de proprietário foram três.\n",
        "- Foi possível observar os valores entre preço de venda e o preço atual dos carros."
      ],
      "metadata": {
        "id": "Zj-B6kxVA5vl"
      }
    },
    {
      "cell_type": "code",
      "source": [
        "#Plotar um histograma para cada variável para ter uma visão geral como estão distribuidas\n",
        "\n",
        "df.hist(figsize=(12,10));"
      ],
      "metadata": {
        "colab": {
          "base_uri": "https://localhost:8080/",
          "height": 607
        },
        "id": "FPmGrwLfgaGn",
        "outputId": "01c3a1c5-cfeb-4ee5-b85c-af773b5c4e06"
      },
      "execution_count": null,
      "outputs": [
        {
          "output_type": "display_data",
          "data": {
            "text/plain": [
              "<Figure size 864x720 with 6 Axes>"
            ],
            "image/png": "[encoded data removed]"
          },
          "metadata": {
            "needs_background": "light"
          }
        }
      ]
    },
    {
      "cell_type": "code",
      "source": [
        "# Importando o seaborn e matplotlib para explorar algumas variáveis\n",
        "import seaborn as sns\n",
        "import matplotlib.pyplot as plt\n",
        "\n",
        "sns.barplot(x='Transmissao',y='Preco_Venda',data=df,palette='winter')"
      ],
      "metadata": {
        "colab": {
          "base_uri": "https://localhost:8080/",
          "height": 296
        },
        "id": "jRljpBYkhH9l",
        "outputId": "abc33e02-2161-4952-d822-ec0a77d75ab9"
      },
      "execution_count": null,
      "outputs": [
        {
          "output_type": "execute_result",
          "data": {
            "text/plain": [
              "<matplotlib.axes._subplots.AxesSubplot at 0x7fb1a7a28b50>"
            ]
          },
          "metadata": {},
          "execution_count": 155
        },
        {
          "output_type": "display_data",
          "data": {
            "text/plain": [
              "<Figure size 432x288 with 1 Axes>"
            ],
            "image/png": "[encoded data removed]"
          },
          "metadata": {
            "needs_background": "light"
          }
        }
      ]
    },
    {
      "cell_type": "markdown",
      "source": [
        "Podemos ver que os veículos automáticos apresentam um grande valor de revenda no mercado em comparação com a transmissão manual."
      ],
      "metadata": {
        "id": "ofPZovfaitRt"
      }
    },
    {
      "cell_type": "code",
      "source": [
        "#Analisando a variavel combustivel pelo preço de venda\n",
        "sns.barplot(x='Tipo_Combustivel',y='Preco_Venda',data=df,palette='winter')"
      ],
      "metadata": {
        "colab": {
          "base_uri": "https://localhost:8080/",
          "height": 297
        },
        "id": "QwU08tDamLcL",
        "outputId": "396013c9-5ac7-4e7e-99bf-d3ee0795a8f1"
      },
      "execution_count": null,
      "outputs": [
        {
          "output_type": "execute_result",
          "data": {
            "text/plain": [
              "<matplotlib.axes._subplots.AxesSubplot at 0x7fb1b416e510>"
            ]
          },
          "metadata": {},
          "execution_count": 156
        },
        {
          "output_type": "display_data",
          "data": {
            "text/plain": [
              "<Figure size 432x288 with 1 Axes>"
            ],
            "image/png": "[encoded data removed]"
          },
          "metadata": {
            "needs_background": "light"
          }
        }
      ]
    },
    {
      "cell_type": "markdown",
      "source": [
        "Veículos com motor a diesel tem o maior preço de venda entre os veículos  a gasolina e CNG\n"
      ],
      "metadata": {
        "id": "ahIDOt0_mZ7a"
      }
    },
    {
      "cell_type": "code",
      "source": [
        "#Deletando a coluna carro para uma melhor correlação entre as colunas\n",
        "\n",
        "df = df.drop(['Carro'],axis=1)\n"
      ],
      "metadata": {
        "id": "1bITaofunQ1I"
      },
      "execution_count": null,
      "outputs": []
    },
    {
      "cell_type": "code",
      "source": [
        "#Correlacionado as variáveis para verificar o grau de dependência\n",
        "\n",
        "correlacao = df.corr()\n",
        "sns.heatmap(correlacao,cmap='YlGnBu',annot=True)"
      ],
      "metadata": {
        "colab": {
          "base_uri": "https://localhost:8080/",
          "height": 357
        },
        "id": "SGsYn1w2oE7O",
        "outputId": "549bed65-06f1-4cb1-ddc8-fdd9396b5229"
      },
      "execution_count": null,
      "outputs": [
        {
          "output_type": "execute_result",
          "data": {
            "text/plain": [
              "<matplotlib.axes._subplots.AxesSubplot at 0x7fb1a38b09d0>"
            ]
          },
          "metadata": {},
          "execution_count": 158
        },
        {
          "output_type": "display_data",
          "data": {
            "text/plain": [
              "<Figure size 432x288 with 2 Axes>"
            ],
            "image/png": "[encoded data removed]"
          },
          "metadata": {
            "needs_background": "light"
          }
        }
      ]
    },
    {
      "cell_type": "markdown",
      "source": [
        "Agora vamos realizar a transformação dos dados categóricos em números para podermos utilizar no nosso modelo de machine learning"
      ],
      "metadata": {
        "id": "n0yzECFBqK6y"
      }
    },
    {
      "cell_type": "code",
      "source": [
        "#Transformação da coluna tipo de combustivel\n",
        "\n",
        "df.replace({'Tipo_Combustivel':{'Petrol':0,'Diesel':1,'CNG':2}},inplace=True)\n",
        "\n",
        "#Transformação da coluna vendedor\n",
        "\n",
        "df.replace({'Vendedor':{'Dealer':0,'Individual':1}},inplace=True)\n",
        "\n",
        "#Transformação da transmissao\n",
        "\n",
        "df.replace({'Transmissao':{'Manual':0,'Automatic':1}},inplace=True)\n",
        "\n",
        "df.head()"
      ],
      "metadata": {
        "colab": {
          "base_uri": "https://localhost:8080/",
          "height": 206
        },
        "id": "HKspV0pGpqH4",
        "outputId": "62a1e61e-769e-4cff-caf4-2ec0c418ef57"
      },
      "execution_count": null,
      "outputs": [
        {
          "output_type": "execute_result",
          "data": {
            "text/plain": [
              "    Ano  Preco_Venda  Preco_Atual  Distancia_KM  Tipo_Combustivel  Vendedor  \\\n",
              "0  2014         3.35         5.59         27000                 0         0   \n",
              "1  2013         4.75         9.54         43000                 1         0   \n",
              "2  2017         7.25         9.85          6900                 0         0   \n",
              "3  2011         2.85         4.15          5200                 0         0   \n",
              "4  2014         4.60         6.87         42450                 1         0   \n",
              "\n",
              "   Transmissao  Qtd_Proprietario  \n",
              "0            0                 0  \n",
              "1            0                 0  \n",
              "2            0                 0  \n",
              "3            0                 0  \n",
              "4            0                 0  "
            ],
            "text/html": [
              "\n",
              "  <div id=\"df-edfb01d7-14f4-4a5a-aa4d-04744df52acc\">\n",
              "    <div class=\"colab-df-container\">\n",
              "      <div>\n",
              "<style scoped>\n",
              "    .dataframe tbody tr th:only-of-type {\n",
              "        vertical-align: middle;\n",
              "    }\n",
              "\n",
              "    .dataframe tbody tr th {\n",
              "        vertical-align: top;\n",
              "    }\n",
              "\n",
              "    .dataframe thead th {\n",
              "        text-align: right;\n",
              "    }\n",
              "</style>\n",
              "<table border=\"1\" class=\"dataframe\">\n",
              "  <thead>\n",
              "    <tr style=\"text-align: right;\">\n",
              "      <th></th>\n",
              "      <th>Ano</th>\n",
              "      <th>Preco_Venda</th>\n",
              "      <th>Preco_Atual</th>\n",
              "      <th>Distancia_KM</th>\n",
              "      <th>Tipo_Combustivel</th>\n",
              "      <th>Vendedor</th>\n",
              "      <th>Transmissao</th>\n",
              "      <th>Qtd_Proprietario</th>\n",
              "    </tr>\n",
              "  </thead>\n",
              "  <tbody>\n",
              "    <tr>\n",
              "      <th>0</th>\n",
              "      <td>2014</td>\n",
              "      <td>3.35</td>\n",
              "      <td>5.59</td>\n",
              "      <td>27000</td>\n",
              "      <td>0</td>\n",
              "      <td>0</td>\n",
              "      <td>0</td>\n",
              "      <td>0</td>\n",
              "    </tr>\n",
              "    <tr>\n",
              "      <th>1</th>\n",
              "      <td>2013</td>\n",
              "      <td>4.75</td>\n",
              "      <td>9.54</td>\n",
              "      <td>43000</td>\n",
              "      <td>1</td>\n",
              "      <td>0</td>\n",
              "      <td>0</td>\n",
              "      <td>0</td>\n",
              "    </tr>\n",
              "    <tr>\n",
              "      <th>2</th>\n",
              "      <td>2017</td>\n",
              "      <td>7.25</td>\n",
              "      <td>9.85</td>\n",
              "      <td>6900</td>\n",
              "      <td>0</td>\n",
              "      <td>0</td>\n",
              "      <td>0</td>\n",
              "      <td>0</td>\n",
              "    </tr>\n",
              "    <tr>\n",
              "      <th>3</th>\n",
              "      <td>2011</td>\n",
              "      <td>2.85</td>\n",
              "      <td>4.15</td>\n",
              "      <td>5200</td>\n",
              "      <td>0</td>\n",
              "      <td>0</td>\n",
              "      <td>0</td>\n",
              "      <td>0</td>\n",
              "    </tr>\n",
              "    <tr>\n",
              "      <th>4</th>\n",
              "      <td>2014</td>\n",
              "      <td>4.60</td>\n",
              "      <td>6.87</td>\n",
              "      <td>42450</td>\n",
              "      <td>1</td>\n",
              "      <td>0</td>\n",
              "      <td>0</td>\n",
              "      <td>0</td>\n",
              "    </tr>\n",
              "  </tbody>\n",
              "</table>\n",
              "</div>\n",
              "      <button class=\"colab-df-convert\" onclick=\"convertToInteractive('df-edfb01d7-14f4-4a5a-aa4d-04744df52acc')\"\n",
              "              title=\"Convert this dataframe to an interactive table.\"\n",
              "              style=\"display:none;\">\n",
              "        \n",
              "  <svg xmlns=\"http://www.w3.org/2000/svg\" height=\"24px\"viewBox=\"0 0 24 24\"\n",
              "       width=\"24px\">\n",
              "    <path d=\"M0 0h24v24H0V0z\" fill=\"none\"/>\n",
              "    <path d=\"M18.56 5.44l.94 2.06.94-2.06 2.06-.94-2.06-.94-.94-2.06-.94 2.06-2.06.94zm-11 1L8.5 8.5l.94-2.06 2.06-.94-2.06-.94L8.5 2.5l-.94 2.06-2.06.94zm10 10l.94 2.06.94-2.06 2.06-.94-2.06-.94-.94-2.06-.94 2.06-2.06.94z\"/><path d=\"M17.41 7.96l-1.37-1.37c-.4-.4-.92-.59-1.43-.59-.52 0-1.04.2-1.43.59L10.3 9.45l-7.72 7.72c-.78.78-.78 2.05 0 2.83L4 21.41c.39.39.9.59 1.41.59.51 0 1.02-.2 1.41-.59l7.78-7.78 2.81-2.81c.8-.78.8-2.07 0-2.86zM5.41 20L4 18.59l7.72-7.72 1.47 1.35L5.41 20z\"/>\n",
              "  </svg>\n",
              "      </button>\n",
              "      \n",
              "  <style>\n",
              "    .colab-df-container {\n",
              "      display:flex;\n",
              "      flex-wrap:wrap;\n",
              "      gap: 12px;\n",
              "    }\n",
              "\n",
              "    .colab-df-convert {\n",
              "      background-color: #E8F0FE;\n",
              "      border: none;\n",
              "      border-radius: 50%;\n",
              "      cursor: pointer;\n",
              "      display: none;\n",
              "      fill: #1967D2;\n",
              "      height: 32px;\n",
              "      padding: 0 0 0 0;\n",
              "      width: 32px;\n",
              "    }\n",
              "\n",
              "    .colab-df-convert:hover {\n",
              "      background-color: #E2EBFA;\n",
              "      box-shadow: 0px 1px 2px rgba(60, 64, 67, 0.3), 0px 1px 3px 1px rgba(60, 64, 67, 0.15);\n",
              "      fill: #174EA6;\n",
              "    }\n",
              "\n",
              "    [theme=dark] .colab-df-convert {\n",
              "      background-color: #3B4455;\n",
              "      fill: #D2E3FC;\n",
              "    }\n",
              "\n",
              "    [theme=dark] .colab-df-convert:hover {\n",
              "      background-color: #434B5C;\n",
              "      box-shadow: 0px 1px 3px 1px rgba(0, 0, 0, 0.15);\n",
              "      filter: drop-shadow(0px 1px 2px rgba(0, 0, 0, 0.3));\n",
              "      fill: #FFFFFF;\n",
              "    }\n",
              "  </style>\n",
              "\n",
              "      <script>\n",
              "        const buttonEl =\n",
              "          document.querySelector('#df-edfb01d7-14f4-4a5a-aa4d-04744df52acc button.colab-df-convert');\n",
              "        buttonEl.style.display =\n",
              "          google.colab.kernel.accessAllowed ? 'block' : 'none';\n",
              "\n",
              "        async function convertToInteractive(key) {\n",
              "          const element = document.querySelector('#df-edfb01d7-14f4-4a5a-aa4d-04744df52acc');\n",
              "          const dataTable =\n",
              "            await google.colab.kernel.invokeFunction('convertToInteractive',\n",
              "                                                     [key], {});\n",
              "          if (!dataTable) return;\n",
              "\n",
              "          const docLinkHtml = 'Like what you see? Visit the ' +\n",
              "            '<a target=\"_blank\" href=https://colab.research.google.com/notebooks/data_table.ipynb>data table notebook</a>'\n",
              "            + ' to learn more about interactive tables.';\n",
              "          element.innerHTML = '';\n",
              "          dataTable['output_type'] = 'display_data';\n",
              "          await google.colab.output.renderOutput(dataTable, element);\n",
              "          const docLink = document.createElement('div');\n",
              "          docLink.innerHTML = docLinkHtml;\n",
              "          element.appendChild(docLink);\n",
              "        }\n",
              "      </script>\n",
              "    </div>\n",
              "  </div>\n",
              "  "
            ]
          },
          "metadata": {},
          "execution_count": 159
        }
      ]
    },
    {
      "cell_type": "markdown",
      "source": [
        "Agora que temos nosso dataset analisando e feito as transformações necessárias para nosso modelo de machine learning, vamos dividi-lo entre treino e teste utilizando a biblioteca scikit-learn."
      ],
      "metadata": {
        "id": "Gau6IRqqsdpZ"
      }
    },
    {
      "cell_type": "markdown",
      "source": [
        "##Particionando os Dados em Treino/Teste"
      ],
      "metadata": {
        "id": "XsYIQP37wZKZ"
      }
    },
    {
      "cell_type": "code",
      "source": [
        "# Separando os dados em teste e treino \n",
        "\n",
        "from sklearn.model_selection import train_test_split\n",
        "\n",
        "x=df.drop(['Preco_Venda'],axis=1)\n",
        "y=df['Preco_Venda']\n",
        "\n",
        "x_treino, x_teste, y_treino,y_teste  = train_test_split(x, y, test_size = 0.25,random_state = 1)"
      ],
      "metadata": {
        "id": "k-O5tIVNsvoq"
      },
      "execution_count": null,
      "outputs": []
    },
    {
      "cell_type": "markdown",
      "source": [
        "###Modelo XGBoost\n",
        "\n",
        "O XGBoost é um algoritmo de aprendizado de máquina, baseado em árvore de decisão e que utiliza uma estrutura de Gradient boosting.\n",
        "\n",
        "Em problemas de previsão envolvendo dados não estruturados, como imagens, textos e vídeos, as redes neurais artificiais tendem a superar todos os outros algoritmos ou frameworks.\n",
        "\n",
        "No entanto, quando se trata de dados estruturados/tabulares, algoritmos baseados em árvore de decisão são considerados os melhores da sua classe no momento.\n",
        "\n",
        "O algoritmo xgboost possui parâmetros para classificação e regressão, para a nossa previsão de vendas utilizaremos o modelo **XGBRegressor**.\n"
      ],
      "metadata": {
        "id": "YEXHoGoc84Cx"
      }
    },
    {
      "cell_type": "code",
      "source": [
        "#Utilizando o algoritmo XGBoost\n",
        "\n",
        "from xgboost.sklearn import XGBRegressor\n",
        "xgb = XGBRegressor();\n",
        "xgb.fit(x_treino,y_treino);"
      ],
      "metadata": {
        "id": "mwoy28Jzx5Y7",
        "colab": {
          "base_uri": "https://localhost:8080/"
        },
        "outputId": "b79c8468-9678-4494-9e4d-972a8fced0c0"
      },
      "execution_count": null,
      "outputs": [
        {
          "output_type": "stream",
          "name": "stdout",
          "text": [
            "[21:34:02] WARNING: /workspace/src/objective/regression_obj.cu:152: reg:linear is now deprecated in favor of reg:squarederror.\n"
          ]
        }
      ]
    },
    {
      "cell_type": "code",
      "source": [
        "#Avaliando o modelo xgboost\n",
        "from sklearn.metrics import r2_score\n",
        "\n",
        "y_pred_xgb = xgb.predict(x_teste)\n",
        "\n",
        "xgb_pred_dataset = pd.DataFrame({\"Dados Atuais\": y_teste, \"Predição\": y_pred_xgb,\"Variação %\":((y_teste/y_pred_xgb)-1)*100})\n",
        "print(xgb_pred_dataset)\n",
        "print('Utilizando o R2_Score como métrica de avaliação foi possível obter cerca {0:.2f}% de predição dos dados.'.format(r2_score(y_teste, y_pred_xgb)*100))"
      ],
      "metadata": {
        "colab": {
          "base_uri": "https://localhost:8080/"
        },
        "id": "ZqHQP7ev5g8N",
        "outputId": "0f61c2c0-2adf-479d-dbcf-e3a33029fad5"
      },
      "execution_count": null,
      "outputs": [
        {
          "output_type": "stream",
          "name": "stdout",
          "text": [
            "     Dados Atuais  Predição  Variação %\n",
            "285          7.40  7.319337    1.102055\n",
            "248          4.00  2.898783   37.988955\n",
            "150          0.50  0.562585  -11.124484\n",
            "217          3.15  3.361792   -6.299976\n",
            "107          1.25  1.155555    8.173083\n",
            "..            ...       ...         ...\n",
            "17           7.75  8.039877   -3.605490\n",
            "95           5.85  5.409232    8.148437\n",
            "169          0.40  0.450739  -11.256782\n",
            "112          1.15  1.338742  -14.098445\n",
            "42           1.95  2.575568  -24.288551\n",
            "\n",
            "[76 rows x 3 columns]\n",
            "Utilizando o R2_Score como métrica de avaliação foi possível obter cerca 94.51% de predição dos dados.\n"
          ]
        }
      ]
    },
    {
      "cell_type": "markdown",
      "source": [
        "Iremos avaliar outros algoritmo de machine learning para verificar se ocorre o aumento do percentual na predição dos dados."
      ],
      "metadata": {
        "id": "qV5klndI_hDb"
      }
    },
    {
      "cell_type": "markdown",
      "source": [
        "#Avaliação 3 - Avaliação do Projeto de Ensino (Terceira Parte): Avaliação dos métodos e predição.\n",
        "\n",
        "##Modelo Random Forest\n",
        "\n",
        "De acordo com a [Didatica.Tech](https://didatica.tech/o-que-e-e-como-funciona-o-algoritmo-randomforest/) as Árvores de Decisão, ou Decision Trees, estabelecem regras para tomada de decisão. O algoritmo criará uma estrutura similar a um fluxograma, com “nós” onde uma condição é verificada, e se atendida o fluxo segue por um ramo, caso contrário, por outro, sempre levando ao próximo nó, até a finalização da árvore.\n",
        "\n",
        "Vamos utilizar o modelo random forest que tem como base o metódo ensemble que também é utilizado por outros modelos, nele a característica principal é a combinação de diferentes modelos para se obter um único resultado.\n",
        "\n",
        "\n"
      ],
      "metadata": {
        "id": "EvwpMdMMdGlz"
      }
    },
    {
      "cell_type": "code",
      "source": [
        "#Utilizando o algoritmo RandomForestRegressor\n",
        "\n",
        "from sklearn.ensemble import RandomForestRegressor\n",
        "modelo_arvoredecisao = RandomForestRegressor()\n",
        "modelo_arvoredecisao.fit(x_treino, y_treino)\n"
      ],
      "metadata": {
        "colab": {
          "base_uri": "https://localhost:8080/"
        },
        "id": "3o2m3h06fZdJ",
        "outputId": "58240c50-6408-48a4-d8b7-967a0979c88d"
      },
      "execution_count": null,
      "outputs": [
        {
          "output_type": "execute_result",
          "data": {
            "text/plain": [
              "RandomForestRegressor()"
            ]
          },
          "metadata": {},
          "execution_count": 163
        }
      ]
    },
    {
      "cell_type": "code",
      "source": [
        "#Avaliando o modelo RandomForestRegressor\n",
        "y_pred_rfr = modelo_arvoredecisao.predict(x_teste)\n",
        "\n",
        "rfr_pred_dataset = pd.DataFrame({\"Dados Atuais\": y_teste, \"Predição\": y_pred_rfr,\"Variação %\":((y_teste/y_pred_rfr)-1)*100})\n",
        "print(rfr_pred_dataset)\n",
        "print('Utilizando o R2_Score como métrica de avaliação foi possível obter cerca {0:.2f}% de predição dos dados.'.format(r2_score(y_teste, y_pred_rfr)*100))"
      ],
      "metadata": {
        "colab": {
          "base_uri": "https://localhost:8080/"
        },
        "id": "yMot7bjbgUU7",
        "outputId": "05a81a85-e681-46ef-a1aa-43a1f443a58f"
      },
      "execution_count": null,
      "outputs": [
        {
          "output_type": "stream",
          "name": "stdout",
          "text": [
            "     Dados Atuais  Predição  Variação %\n",
            "285          7.40    6.5690   12.650327\n",
            "248          4.00    2.8865   38.576130\n",
            "150          0.50    0.4749    5.285323\n",
            "217          3.15    2.9530    6.671182\n",
            "107          1.25    1.0566   18.303994\n",
            "..            ...       ...         ...\n",
            "17           7.75    7.7915   -0.532632\n",
            "95           5.85    5.9675   -1.968999\n",
            "169          0.40    0.4179   -4.283321\n",
            "112          1.15    1.1737   -2.019255\n",
            "42           1.95    2.3770  -17.963820\n",
            "\n",
            "[76 rows x 3 columns]\n",
            "Utilizando o R2_Score como métrica de avaliação foi possível obter cerca 90.96% de predição dos dados.\n"
          ]
        }
      ]
    },
    {
      "cell_type": "markdown",
      "source": [
        "Utilizando o metodo de aprendizado Random Forest regressor obtemos cerca de 89.29% de predição, um número auto, entretanto é possível perceber que tem uma variação alta entre os dados reais e os dados de predição.\n",
        "Vamos prosseguir com mais modelos para termos uma conclusão do melhor metódo de aprendizado.\n"
      ],
      "metadata": {
        "id": "08aTKfcNhZhi"
      }
    },
    {
      "cell_type": "markdown",
      "source": [
        "## Regressão Linear\n",
        "\n",
        "Segundo [IBM](https://www.ibm.com/br-pt/analytics/learn/linear-regression) a análise de regressão linear é usada para prever o valor de uma variável com base no valor de outra. A variável que deseja prever é chamada de variável dependente. A variável que é usada para prever o valor de outra variável é chamada de variável independente.\n",
        "\n",
        "Seguindo com essa breve explicação vamos aplicar o modelo de regressão linear para avaliarmos seu nível de predição.\n"
      ],
      "metadata": {
        "id": "cfxAx78ij-mi"
      }
    },
    {
      "cell_type": "code",
      "source": [
        "#Utilizando o algoritmo LinearRegression\n",
        "\n",
        "from sklearn.linear_model import LinearRegression\n",
        "modelo_LinearRegression = LinearRegression()\n",
        "modelo_LinearRegression.fit(x_treino, y_treino)"
      ],
      "metadata": {
        "colab": {
          "base_uri": "https://localhost:8080/"
        },
        "id": "5r4MXf_Cll2y",
        "outputId": "ea5c1cd3-e440-47c4-b8d8-8e6a445f75b6"
      },
      "execution_count": null,
      "outputs": [
        {
          "output_type": "execute_result",
          "data": {
            "text/plain": [
              "LinearRegression()"
            ]
          },
          "metadata": {},
          "execution_count": 165
        }
      ]
    },
    {
      "cell_type": "code",
      "source": [
        "#Avaliando o modelo LinearRegression\n",
        "y_pred_lir = modelo_LinearRegression.predict(x_teste)\n",
        "\n",
        "lir_pred_dataset = pd.DataFrame({\"Dados Atuais\": y_teste, \"Predição\": y_pred_lir,\"Variação %\":((y_teste/y_pred_lir)-1)*100})\n",
        "print(lir_pred_dataset)\n",
        "print('Utilizando o R2_Score como métrica de avaliação foi possível obter cerca {0:.2f}% de predição dos dados.'.format(r2_score(y_teste, y_pred_lir)*100))"
      ],
      "metadata": {
        "colab": {
          "base_uri": "https://localhost:8080/"
        },
        "id": "bYdcJ_lWma_b",
        "outputId": "6769279e-8b8b-430c-fa87-724ce8b18b76"
      },
      "execution_count": null,
      "outputs": [
        {
          "output_type": "stream",
          "name": "stdout",
          "text": [
            "     Dados Atuais  Predição  Variação %\n",
            "285          7.40  7.886136   -6.164433\n",
            "248          4.00  2.967113   34.811157\n",
            "150          0.50 -0.678769 -173.662780\n",
            "217          3.15  4.243375  -25.766628\n",
            "107          1.25  0.450168  177.674043\n",
            "..            ...       ...         ...\n",
            "17           7.75  8.401469   -7.754231\n",
            "95           5.85  8.632634  -32.233892\n",
            "169          0.40  0.887807  -54.945164\n",
            "112          1.15  1.314669  -12.525486\n",
            "42           1.95  1.841138    5.912749\n",
            "\n",
            "[76 rows x 3 columns]\n",
            "Utilizando o R2_Score como métrica de avaliação foi possível obter cerca 83.88% de predição dos dados.\n"
          ]
        }
      ]
    },
    {
      "cell_type": "markdown",
      "source": [
        "Utilizando o metodo de aprendizado Linear Regression obtemos cerca de 83.88% de predição, um percentual menor comparado aos outros modelos já utilizados, entretanto é possível perceber que também possui uma variação alta entre os dados reais e os dados de predição.\n",
        "Vamos prosseguir com o último modelo para termos uma conclusão do melhor metódo de aprendizado.\n"
      ],
      "metadata": {
        "id": "SbkwcXhJnHNE"
      }
    },
    {
      "cell_type": "markdown",
      "source": [
        "## Lasso Regressão\n",
        "\n",
        "A Regressão de Lasso é uma variação da regressão linear onde seu principal intuito é ajudar a diminuir a limitação do modelo. Os valores dos dados encolhem para o centro ou média para evitar o sobreajustamento dos dados. \n",
        "Utilizando a referência do [Data Science Team](https://datascience.eu/pt/aprendizado-de-maquina/regressao-lasso-definicao-simples/) podemos compreender que a Regressão Lasso pode eliminar as variáveis inúteis da equação. Este tipo de regressão é melhor do que a regressão de Ridge e ajuda a reduzir as variâncias num modelo de aprendizagem da máquina que contém muitas variâncias.\n",
        "\n",
        "Seguindo com essa breve explicação vamos aplicar o modelo de regressão de lasso para avaliarmos seu nível de predição.\n"
      ],
      "metadata": {
        "id": "XzUth0Mqn5Sx"
      }
    },
    {
      "cell_type": "code",
      "source": [
        "#Utilizando o algoritmo lasso\n",
        "\n",
        "from sklearn.linear_model import Lasso\n",
        "modelo_Lasso = Lasso()\n",
        "modelo_Lasso.fit(x_treino, y_treino)"
      ],
      "metadata": {
        "colab": {
          "base_uri": "https://localhost:8080/"
        },
        "id": "xaeZzgvKpflu",
        "outputId": "67e701ef-65d1-47af-dff5-d3f00a395776"
      },
      "execution_count": null,
      "outputs": [
        {
          "output_type": "execute_result",
          "data": {
            "text/plain": [
              "Lasso()"
            ]
          },
          "metadata": {},
          "execution_count": 167
        }
      ]
    },
    {
      "cell_type": "code",
      "source": [
        "#Avaliando o modelo Lasso\n",
        "y_pred_las = modelo_Lasso.predict(x_teste)\n",
        "\n",
        "las_pred_dataset = pd.DataFrame({\"Dados Atuais\": y_teste, \"Predição\": y_pred_las,\"Variação %\":((y_teste/y_pred_las)-1)*100})\n",
        "print(las_pred_dataset)\n",
        "print('Utilizando o R2_Score como métrica de avaliação foi possível obter cerca {0:.2f}% de predição dos dados.'.format(r2_score(y_teste, y_pred_las)*100))"
      ],
      "metadata": {
        "colab": {
          "base_uri": "https://localhost:8080/"
        },
        "id": "f-duFgvJpvKJ",
        "outputId": "396277b4-1772-47fb-9975-30a9e33b54a0"
      },
      "execution_count": null,
      "outputs": [
        {
          "output_type": "stream",
          "name": "stdout",
          "text": [
            "     Dados Atuais  Predição  Variação %\n",
            "285          7.40  6.021796   22.886923\n",
            "248          4.00  2.976606   34.381252\n",
            "150          0.50  0.499767    0.046633\n",
            "217          3.15  3.928292  -19.812471\n",
            "107          1.25  1.451289  -13.869648\n",
            "..            ...       ...         ...\n",
            "17           7.75  7.070497    9.610403\n",
            "95           5.85  9.666238  -39.480075\n",
            "169          0.40  1.608514  -75.132327\n",
            "112          1.15  2.274557  -49.440702\n",
            "42           1.95  2.542640  -23.308052\n",
            "\n",
            "[76 rows x 3 columns]\n",
            "Utilizando o R2_Score como métrica de avaliação foi possível obter cerca 82.66% de predição dos dados.\n"
          ]
        }
      ]
    },
    {
      "cell_type": "markdown",
      "source": [
        "Utilizando o metodo de aprendizado Lasso Regression obtemos cerca de 82.66% de predição, um percentual menor comparado aos outros modelos já utilizados, entretanto é possível perceber que também possui uma variação alta entre os dados reais e os dados de predição.\n",
        "\n",
        "Vamos plotar um gráfico comparando todos os dados de predição com os dados atuais para termos uma opção visual para análise.\n"
      ],
      "metadata": {
        "id": "pIM0OWXDqKAq"
      }
    },
    {
      "cell_type": "code",
      "source": [
        "#Gráfico de linhas para análise das prediçãos\n",
        "\n",
        "tabela_auxiliar = pd.DataFrame()\n",
        "tabela_auxiliar[\"Valores Atuais\"] = y_teste\n",
        "tabela_auxiliar[\"Previsoes XGBoost\"] = y_pred_xgb\n",
        "tabela_auxiliar[\"Previsoes Random Forest\"] = y_pred_rfr\n",
        "tabela_auxiliar[\"Previsoes Regressao Linear\"] = y_pred_lir\n",
        "tabela_auxiliar[\"Previsoes Regressao Lasso\"] = y_pred_las\n",
        "\n",
        "plt.figure(figsize=(15,6))\n",
        "sns.lineplot(data=tabela_auxiliar)\n",
        "plt.show()"
      ],
      "metadata": {
        "colab": {
          "base_uri": "https://localhost:8080/",
          "height": 374
        },
        "id": "fGyHdlWPrSdN",
        "outputId": "7d7e658b-43cb-4a41-da82-2f2f878ac0a4"
      },
      "execution_count": null,
      "outputs": [
        {
          "output_type": "display_data",
          "data": {
            "text/plain": [
              "<Figure size 1080x432 with 1 Axes>"
            ],
            "image/png": "[encoded data removed]"
          },
          "metadata": {
            "needs_background": "light"
          }
        }
      ]
    },
    {
      "cell_type": "markdown",
      "source": [
        "#Conclusão\n",
        "\n",
        "O modelo XGBRegressor e Random Forest se mostraram eficientes para prever o preço dos carros usados.\n",
        "\n",
        "Utilizando a métrica R2 Score podemos chegar nessas seguintes conclusões, o XGBoost alcançamos um percentual de predição de 94.51%, o random forest de 89.29%, a regressão linear de 83.88% e a regresão lasso de 82.66%.\n",
        "\n",
        "Podemos escolher o XGBoost como o melhor modelo e a regressão lasso como a pior. Pois o XGBoost foi o modelo que conseguiu prever melhor o preço dos carros usados.\n",
        "\n"
      ],
      "metadata": {
        "id": "6bwsCqJks3Ia"
      }
    }
  ]
}